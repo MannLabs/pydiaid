{
 "cells": [
  {
   "cell_type": "markdown",
   "metadata": {},
   "source": [
    "# Orbitrap Astral DIA (OADIA) - MS2 Windows"
   ]
  },
  {
   "cell_type": "code",
   "execution_count": null,
   "metadata": {},
   "outputs": [],
   "source": [
    "# import public packages\n",
    "import pandas as pd\n",
    "import os\n",
    "\n",
    "# !pip install pydiaid\n",
    "import pydiaid.oadia.method_generator as method_creator\n",
    "import pydiaid.oadia.method_evaluation as method_evaluator\n",
    "\n",
    "from IPython.display import Image\n",
    "\n",
    "# # importing components for visualization\n",
    "%load_ext autoreload\n",
    "%autoreload 2"
   ]
  },
  {
   "cell_type": "markdown",
   "metadata": {},
   "source": [
    "## Load a proteomics library"
   ]
  },
  {
   "cell_type": "code",
   "execution_count": null,
   "metadata": {},
   "outputs": [],
   "source": [
    "import pydiaid.loader as loader\n",
    "\n",
    "library_name = \"/Users/patriciaskowronek/Documents/test_lib_py_diaid/DIANN_5_6min_50ng_syP_2equiScans_wide_lib.tsv\"\n",
    "analysis_software = 'DIANN single-run'\n",
    "ptm = \"None\" #Options: 'None', 'Phospho', 'DiGly', [\"STY\"]"
   ]
  },
  {
   "cell_type": "code",
   "execution_count": null,
   "metadata": {},
   "outputs": [],
   "source": [
    "library = loader.load_library(\n",
    "        library_name,\n",
    "        analysis_software,\n",
    "        ptm,\n",
    "        False\n",
    "    )\n",
    "library"
   ]
  },
  {
   "cell_type": "markdown",
   "metadata": {},
   "source": [
    "## Define where the output should be saved"
   ]
  },
  {
   "cell_type": "code",
   "execution_count": null,
   "metadata": {},
   "outputs": [],
   "source": [
    "import pydiaid.synchropasef.method_creator as syP_method_creator\n",
    "folder_path = \"/Users/patriciaskowronek/Documents/test_folder_2\"\n",
    "syP_method_creator.create_folder([folder_path])"
   ]
  },
  {
   "cell_type": "markdown",
   "metadata": {},
   "source": [
    "## Create histogram of precursors in m/z"
   ]
  },
  {
   "cell_type": "code",
   "execution_count": null,
   "metadata": {},
   "outputs": [],
   "source": [
    "import pydiaid.synchropasef.method_evaluator as syP_method_evaluator\n",
    "import pydiaid.synchropasef.plots as syP_plots\n",
    "\n",
    "plot_parameters = {\n",
    "    \"plot_mz\": [100, 1400],\n",
    "}\n",
    "\n",
    "syP_plots.plot_precursor_distribution_as_histogram(\n",
    "        library,\n",
    "        plot_parameters,\n",
    "        os.path.join(\n",
    "            folder_path,\n",
    "            'Histogram_precursor_distribution_in_library.png'\n",
    "        ),\n",
    "        gui=True\n",
    "    ),\n",
    "\n",
    "dict_charge_of_precursor = syP_method_evaluator.calculate_percentage_multiple_charged_precursors(library)\n",
    "mult_charged_precursor_info = pd.DataFrame(\n",
    "    {\n",
    "        \"charge state of precursors\": list(dict_charge_of_precursor.keys()),\n",
    "        \"ratio [%]\": list(dict_charge_of_precursor.values())\n",
    "    }\n",
    ")\n",
    "mult_charged_precursor_info.to_csv(\n",
    "    os.path.join(\n",
    "        folder_path,\n",
    "        'percentage_of_multiple_charged_precursors.csv'\n",
    "    ),\n",
    "    index=False\n",
    ")\n",
    "print(mult_charged_precursor_info)"
   ]
  },
  {
   "cell_type": "markdown",
   "metadata": {},
   "source": [
    "## Specify method parameters"
   ]
  },
  {
   "cell_type": "code",
   "execution_count": null,
   "metadata": {},
   "outputs": [],
   "source": [
    "mz_values=library[\"mz\"]\n",
    "mz_range=(300, 1200)\n",
    "num_bins=20\n",
    "window_type = \"variable\" # fixed or variable\n",
    "# window_type = \"fixed\"\n",
    "output_format = \"all\" #targeted, center_mass, mz_ranges\n",
    "\n",
    "min_width=1.0\n",
    "max_width=40.0\n",
    "\n",
    "method_evaluator.calculate_precursor_within_scan_area(\n",
    "    library,\n",
    "    mz_range,\n",
    ")"
   ]
  },
  {
   "cell_type": "markdown",
   "metadata": {},
   "source": [
    "## Generate method"
   ]
  },
  {
   "cell_type": "code",
   "execution_count": null,
   "metadata": {},
   "outputs": [],
   "source": [
    "df_window, bins = method_creator.create_method(\n",
    "    mz_values,\n",
    "    mz_range,\n",
    "    num_bins,\n",
    "    window_type,\n",
    "    output_format,\n",
    "    folder_path\n",
    ")"
   ]
  },
  {
   "cell_type": "markdown",
   "metadata": {},
   "source": [
    "## Load and Evaluate method"
   ]
  },
  {
   "cell_type": "code",
   "execution_count": null,
   "metadata": {},
   "outputs": [],
   "source": [
    "df_window, bins, df_method = method_evaluator.load_method_file(f\"{folder_path}/OA_DIA_method_{mz_range[0]}_{mz_range[1]}_{num_bins}_{window_type}\"+\"_center_mass.csv\")\n",
    "df_method"
   ]
  },
  {
   "cell_type": "code",
   "execution_count": null,
   "metadata": {},
   "outputs": [],
   "source": [
    "# Get statistics with detailed analysis\n",
    "stats = method_evaluator.analyze_bins(bins, mz_values)\n",
    "\n",
    "# Print summary\n",
    "print(\"Summary Statistics:\")\n",
    "print(f\"Number of bins: {stats['num_bins']}\")\n",
    "print(f\"Min width: {stats['min_width']:.2f}\")\n",
    "print(f\"Max width: {stats['max_width']:.2f}\")\n",
    "print(f\"Average width: {stats['avg_width']:.2f}\")\n",
    "print(f\"Min items per bin: {stats['min_count']}\")\n",
    "print(f\"Max items per bin: {stats['max_count']}\")\n",
    "print(f\"Average items per bin: {stats['avg_count']:.2f}\")\n",
    "\n",
    "if round(stats['min_width'],2) == round(stats['max_width'], 2):\n",
    "    window_type = \"fixed\"\n",
    "else:\n",
    "    window_type = \"variable\"\n",
    "\n",
    "# Print detailed tabular view\n",
    "print(\"\\n\" + stats['tabular_stats'])"
   ]
  },
  {
   "cell_type": "code",
   "execution_count": null,
   "metadata": {},
   "outputs": [],
   "source": [
    "df_window = method_creator.calculate_window_metrics(bins)\n",
    "method_evaluator.plot_precursors_per_scan(\n",
    "    mz_values, \n",
    "    bins, \n",
    "    window_type,\n",
    "    df_window, \n",
    "    os.path.join(\n",
    "        folder_path,\n",
    "        'precursor_per_scan.png'\n",
    "    ),\n",
    "    gui=True\n",
    ")\n",
    "method_evaluator.plot_precursors_per_scan(\n",
    "    mz_values, \n",
    "    bins, \n",
    "    window_type,\n",
    "    df_window, \n",
    "    os.path.join(\n",
    "        folder_path,\n",
    "        'precursor_per_scan.png'\n",
    "    ),\n",
    ")"
   ]
  },
  {
   "cell_type": "code",
   "execution_count": null,
   "metadata": {},
   "outputs": [],
   "source": []
  }
 ],
 "metadata": {
  "kernelspec": {
   "display_name": "pydiaid",
   "language": "python",
   "name": "python3"
  },
  "language_info": {
   "codemirror_mode": {
    "name": "ipython",
    "version": 3
   },
   "file_extension": ".py",
   "mimetype": "text/x-python",
   "name": "python",
   "nbconvert_exporter": "python",
   "pygments_lexer": "ipython3",
   "version": "3.8.19"
  }
 },
 "nbformat": 4,
 "nbformat_minor": 2
}
