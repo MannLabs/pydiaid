{
 "cells": [
  {
   "cell_type": "markdown",
   "metadata": {},
   "source": [
    "# Orbitrap Astral DIA (OADIA) - MS2 Windows"
   ]
  },
  {
   "cell_type": "code",
   "execution_count": 24,
   "metadata": {},
   "outputs": [
    {
     "name": "stdout",
     "output_type": "stream",
     "text": [
      "The autoreload extension is already loaded. To reload it, use:\n",
      "  %reload_ext autoreload\n"
     ]
    }
   ],
   "source": [
    "# import public packages\n",
    "import pandas as pd\n",
    "import os\n",
    "\n",
    "# !pip install pydiaid\n",
    "import pydiaid.oadia.method_generator as method_creator\n",
    "import pydiaid.oadia.method_evaluation as method_evaluator\n",
    "\n",
    "from IPython.display import Image\n",
    "\n",
    "# # importing components for visualization\n",
    "%load_ext autoreload\n",
    "%autoreload 2"
   ]
  },
  {
   "cell_type": "markdown",
   "metadata": {},
   "source": [
    "## Load a proteomics library"
   ]
  },
  {
   "cell_type": "code",
   "execution_count": 25,
   "metadata": {},
   "outputs": [],
   "source": [
    "import pydiaid.loader as loader\n",
    "\n",
    "library_name = \"/Users/patriciaskowronek/Documents/pydiaid/pydiaid/oadia/static/AlphaPept_results.csv\"\n",
    "analysis_software = \"AlphaPept\"\n",
    "ptm = \"None\" #Options: 'None', 'Phospho', 'DiGly', [\"STY\"]"
   ]
  },
  {
   "cell_type": "code",
   "execution_count": 26,
   "metadata": {},
   "outputs": [
    {
     "data": {
      "text/html": [
       "<div>\n",
       "<style scoped>\n",
       "    .dataframe tbody tr th:only-of-type {\n",
       "        vertical-align: middle;\n",
       "    }\n",
       "\n",
       "    .dataframe tbody tr th {\n",
       "        vertical-align: top;\n",
       "    }\n",
       "\n",
       "    .dataframe thead th {\n",
       "        text-align: right;\n",
       "    }\n",
       "</style>\n",
       "<table border=\"1\" class=\"dataframe\">\n",
       "  <thead>\n",
       "    <tr style=\"text-align: right;\">\n",
       "      <th></th>\n",
       "      <th>mz</th>\n",
       "      <th>Charge</th>\n",
       "      <th>Proteins</th>\n",
       "      <th>Peptide</th>\n",
       "      <th>IM</th>\n",
       "    </tr>\n",
       "  </thead>\n",
       "  <tbody>\n",
       "    <tr>\n",
       "      <th>2</th>\n",
       "      <td>367.231672</td>\n",
       "      <td>2.0</td>\n",
       "      <td>sp|Q13151|ROA0_HUMAN</td>\n",
       "      <td>LFVGGLK_2</td>\n",
       "      <td>0.726023</td>\n",
       "    </tr>\n",
       "    <tr>\n",
       "      <th>3</th>\n",
       "      <td>845.962927</td>\n",
       "      <td>2.0</td>\n",
       "      <td>sp|Q13151|ROA0_HUMAN</td>\n",
       "      <td>LFIGGLNVQTSESGLR_2</td>\n",
       "      <td>1.102190</td>\n",
       "    </tr>\n",
       "    <tr>\n",
       "      <th>4</th>\n",
       "      <td>572.594492</td>\n",
       "      <td>3.0</td>\n",
       "      <td>sp|Q13151|ROA0_HUMAN</td>\n",
       "      <td>GFGFVYFQNHDAADK_3</td>\n",
       "      <td>0.824195</td>\n",
       "    </tr>\n",
       "    <tr>\n",
       "      <th>5</th>\n",
       "      <td>858.396483</td>\n",
       "      <td>2.0</td>\n",
       "      <td>sp|Q13151|ROA0_HUMAN</td>\n",
       "      <td>GFGFVYFQNHDAADK_2</td>\n",
       "      <td>1.134147</td>\n",
       "    </tr>\n",
       "    <tr>\n",
       "      <th>6</th>\n",
       "      <td>726.683059</td>\n",
       "      <td>3.0</td>\n",
       "      <td>sp|Q13151|ROA0_HUMAN</td>\n",
       "      <td>GDVAEGDLIEHFSQFGTVEK_3</td>\n",
       "      <td>0.974275</td>\n",
       "    </tr>\n",
       "    <tr>\n",
       "      <th>...</th>\n",
       "      <td>...</td>\n",
       "      <td>...</td>\n",
       "      <td>...</td>\n",
       "      <td>...</td>\n",
       "      <td>...</td>\n",
       "    </tr>\n",
       "    <tr>\n",
       "      <th>20087</th>\n",
       "      <td>918.139958</td>\n",
       "      <td>3.0</td>\n",
       "      <td>sp|P22612|KAPCG_HUMAN</td>\n",
       "      <td>DLKPENLLIDQQGYLQVTDFGFAK_3</td>\n",
       "      <td>1.017018</td>\n",
       "    </tr>\n",
       "    <tr>\n",
       "      <th>20088</th>\n",
       "      <td>1402.736600</td>\n",
       "      <td>2.0</td>\n",
       "      <td>sp|Q9NRK6|ABCBA_HUMAN</td>\n",
       "      <td>ILLLDEATSALDAENEYLVQEALDR_2</td>\n",
       "      <td>1.454452</td>\n",
       "    </tr>\n",
       "    <tr>\n",
       "      <th>20089</th>\n",
       "      <td>725.884070</td>\n",
       "      <td>2.0</td>\n",
       "      <td>sp|Q96JS3|PGBD1_HUMAN</td>\n",
       "      <td>NVSLEVTVQEMRcCVFGVLLLSGFoxMR_2</td>\n",
       "      <td>1.011275</td>\n",
       "    </tr>\n",
       "    <tr>\n",
       "      <th>20090</th>\n",
       "      <td>970.487625</td>\n",
       "      <td>3.0</td>\n",
       "      <td>sp|Q8IZL2|MAML2_HUMAN</td>\n",
       "      <td>FPTGTPAAYTPNQSLQQAVGSQQFSQR_3</td>\n",
       "      <td>1.224723</td>\n",
       "    </tr>\n",
       "    <tr>\n",
       "      <th>20091</th>\n",
       "      <td>1030.456076</td>\n",
       "      <td>3.0</td>\n",
       "      <td>sp|O60828|PQBP1_HUMAN</td>\n",
       "      <td>HLEPEPEEEIIAEDYDDDPVDYEATR_3</td>\n",
       "      <td>1.037580</td>\n",
       "    </tr>\n",
       "  </tbody>\n",
       "</table>\n",
       "<p>19998 rows × 5 columns</p>\n",
       "</div>"
      ],
      "text/plain": [
       "                mz  Charge               Proteins  \\\n",
       "2       367.231672     2.0   sp|Q13151|ROA0_HUMAN   \n",
       "3       845.962927     2.0   sp|Q13151|ROA0_HUMAN   \n",
       "4       572.594492     3.0   sp|Q13151|ROA0_HUMAN   \n",
       "5       858.396483     2.0   sp|Q13151|ROA0_HUMAN   \n",
       "6       726.683059     3.0   sp|Q13151|ROA0_HUMAN   \n",
       "...            ...     ...                    ...   \n",
       "20087   918.139958     3.0  sp|P22612|KAPCG_HUMAN   \n",
       "20088  1402.736600     2.0  sp|Q9NRK6|ABCBA_HUMAN   \n",
       "20089   725.884070     2.0  sp|Q96JS3|PGBD1_HUMAN   \n",
       "20090   970.487625     3.0  sp|Q8IZL2|MAML2_HUMAN   \n",
       "20091  1030.456076     3.0  sp|O60828|PQBP1_HUMAN   \n",
       "\n",
       "                              Peptide        IM  \n",
       "2                           LFVGGLK_2  0.726023  \n",
       "3                  LFIGGLNVQTSESGLR_2  1.102190  \n",
       "4                   GFGFVYFQNHDAADK_3  0.824195  \n",
       "5                   GFGFVYFQNHDAADK_2  1.134147  \n",
       "6              GDVAEGDLIEHFSQFGTVEK_3  0.974275  \n",
       "...                               ...       ...  \n",
       "20087      DLKPENLLIDQQGYLQVTDFGFAK_3  1.017018  \n",
       "20088     ILLLDEATSALDAENEYLVQEALDR_2  1.454452  \n",
       "20089  NVSLEVTVQEMRcCVFGVLLLSGFoxMR_2  1.011275  \n",
       "20090   FPTGTPAAYTPNQSLQQAVGSQQFSQR_3  1.224723  \n",
       "20091    HLEPEPEEEIIAEDYDDDPVDYEATR_3  1.037580  \n",
       "\n",
       "[19998 rows x 5 columns]"
      ]
     },
     "execution_count": 26,
     "metadata": {},
     "output_type": "execute_result"
    }
   ],
   "source": [
    "library = loader.load_library(\n",
    "        library_name,\n",
    "        analysis_software,\n",
    "        ptm,\n",
    "        False\n",
    "    )\n",
    "library"
   ]
  },
  {
   "cell_type": "markdown",
   "metadata": {},
   "source": [
    "## Define where the output should be saved"
   ]
  },
  {
   "cell_type": "code",
   "execution_count": 27,
   "metadata": {},
   "outputs": [],
   "source": [
    "import pydiaid.synchropasef.method_creator as syP_method_creator\n",
    "folder_path = \"/Users/patriciaskowronek/Documents/test_folder\" # where generated files will be stored\n",
    "syP_method_creator.create_folder([folder_path])"
   ]
  },
  {
   "cell_type": "markdown",
   "metadata": {},
   "source": [
    "## Create histogram of precursors in m/z"
   ]
  },
  {
   "cell_type": "code",
   "execution_count": 28,
   "metadata": {},
   "outputs": [
    {
     "name": "stdout",
     "output_type": "stream",
     "text": [
      "  charge state of precursors  ratio [%]\n",
      "0                          1       0.91\n",
      "1                          2      77.69\n",
      "2                          3      20.19\n",
      "3                          4       1.19\n"
     ]
    },
    {
     "data": {
      "image/png": "[encoded data removed]",
      "text/plain": [
       "<Figure size 640x480 with 1 Axes>"
      ]
     },
     "metadata": {},
     "output_type": "display_data"
    }
   ],
   "source": [
    "import pydiaid.synchropasef.method_evaluator as syP_method_evaluator\n",
    "import pydiaid.synchropasef.plots as syP_plots\n",
    "\n",
    "plot_parameters = {\n",
    "    \"plot_mz\": [100, 1400],\n",
    "}\n",
    "\n",
    "syP_plots.plot_precursor_distribution_as_histogram(\n",
    "        library,\n",
    "        plot_parameters,\n",
    "        os.path.join(\n",
    "            folder_path,\n",
    "            'Histogram_precursor_distribution_in_library.png'\n",
    "        ),\n",
    "        gui=True\n",
    "    ),\n",
    "\n",
    "dict_charge_of_precursor = syP_method_evaluator.calculate_percentage_multiple_charged_precursors(library)\n",
    "mult_charged_precursor_info = pd.DataFrame(\n",
    "    {\n",
    "        \"charge state of precursors\": list(dict_charge_of_precursor.keys()),\n",
    "        \"ratio [%]\": list(dict_charge_of_precursor.values())\n",
    "    }\n",
    ")\n",
    "mult_charged_precursor_info.to_csv(\n",
    "    os.path.join(\n",
    "        folder_path,\n",
    "        'percentage_of_multiple_charged_precursors.csv'\n",
    "    ),\n",
    "    index=False\n",
    ")\n",
    "print(mult_charged_precursor_info)"
   ]
  },
  {
   "cell_type": "markdown",
   "metadata": {},
   "source": [
    "## Specify method parameters"
   ]
  },
  {
   "cell_type": "code",
   "execution_count": 47,
   "metadata": {},
   "outputs": [
    {
     "data": {
      "text/plain": [
       "{'precursors within m/z-range [%]': 86.82}"
      ]
     },
     "execution_count": 47,
     "metadata": {},
     "output_type": "execute_result"
    }
   ],
   "source": [
    "mz_values = library[\"mz\"]\n",
    "mz_range = (380, 980)\n",
    "num_bins = 25\n",
    "window_type = \"dynamic\" # fixed or dynamic\n",
    "output_format = \"all\" #targeted, center_mass, mz_ranges\n",
    "\n",
    "min_width = 1.0\n",
    "max_width = 40.0\n",
    "\n",
    "method_evaluator.calculate_precursor_within_scan_area(\n",
    "    library,\n",
    "    mz_range,\n",
    ")"
   ]
  },
  {
   "cell_type": "markdown",
   "metadata": {},
   "source": [
    "## Generate method"
   ]
  },
  {
   "cell_type": "code",
   "execution_count": 48,
   "metadata": {},
   "outputs": [
    {
     "name": "stdout",
     "output_type": "stream",
     "text": [
      "bins [[380, 462.7369595110334], [462.7369595110334, 491.57876869984375], [491.57876869984375, 513.2536525148734], [513.2536525148734, 532.2615027382413], [532.2615027382413, 549.253787726606], [549.253787726606, 564.3362691645294], [564.3362691645294, 579.830105546174], [579.830105546174, 595.8254202985592], [595.8254202985592, 612.6598869616327], [612.6598869616327, 628.8451651967605], [628.8451651967605, 645.8754027577681], [645.8754027577681, 663.6163658014656], [663.6163658014656, 681.3588175687477], [681.3588175687477, 700.7832344795081], [700.7832344795081, 718.8682261714384], [718.8682261714384, 738.8265176982775], [738.8265176982775, 760.0078274298925], [760.0078274298925, 781.4242200964857], [781.4242200964857, 804.4108183602938], [804.4108183602938, 826.9382957299883], [826.9382957299883, 851.8939679826307], [851.8939679826307, 879.1184771606322], [879.1184771606322, 908.4638041763232], [908.4638041763232, 942.4453532877792], [942.4453532877792, 980]]\n",
      "oversized bin indices [0]\n",
      "categoraized {'left_region': [{'mz_range': [380, 462.7369595110334], 'bin_width': 82.73695951103338}], 'right_region': []}\n",
      "new_bins [[380, 420.0], [420.0, 460.0]]\n",
      "current bins [[380, 420.0], [420.0, 460.0]] 2\n",
      "0\n",
      "num bins for next iteration 23\n",
      "new mz ranges [(460.0, 980)]\n",
      "bins_per_range_rounded [23]\n",
      "min num bins [13]\n",
      "new num bins [23]\n",
      "bins [[460.0, 490.7738299700032], [490.7738299700032, 513.7438628447775], [513.7438628447775, 533.2837434814835], [533.2837434814835, 550.8231405041071], [550.8231405041071, 566.8146721315326], [566.8146721315326, 583.2716929039779], [583.2716929039779, 600.657218068052], [600.657218068052, 617.3104831808738], [617.3104831808738, 634.3407890814555], [634.3407890814555, 652.8077761628808], [652.8077761628808, 671.8287261393026], [671.8287261393026, 690.824598346298], [690.824598346298, 710.3945833607394], [710.3945833607394, 730.35246784372], [730.35246784372, 752.3754469927677], [752.3754469927677, 774.8091523068176], [774.8091523068176, 797.412216402533], [797.412216402533, 821.4375311852067], [821.4375311852067, 846.9627481087273], [846.9627481087273, 874.9057028040867], [874.9057028040867, 904.9865638449342], [904.9865638449342, 940.4202963145036], [940.4202963145036, 980]]\n",
      "oversized bin indices []\n",
      "Number of bins merged (reason: size below min_width): 0\n"
     ]
    },
    {
     "data": {
      "text/plain": [
       "[[380, 420.44099500000004],\n",
       " [420.44099500000004, 460.45918500000005],\n",
       " [460.45918500000005, 490.47282750000005],\n",
       " [490.47282750000005, 513.48328675],\n",
       " [513.48328675, 533.49238175],\n",
       " [533.49238175, 550.5001125],\n",
       " [550.5001125, 566.5073885],\n",
       " [566.5073885, 583.51511925],\n",
       " [583.51511925, 600.5228500000001],\n",
       " [600.5228500000001, 617.53058075],\n",
       " [617.53058075, 634.5383115000001],\n",
       " [634.5383115000001, 652.546497],\n",
       " [652.546497, 671.55513725],\n",
       " [671.55513725, 690.5637775],\n",
       " [690.5637775, 710.5728725],\n",
       " [710.5728725, 730.5819675],\n",
       " [730.5819675, 752.591972],\n",
       " [752.591972, 774.6019765000001],\n",
       " [774.6019765000001, 797.61243575],\n",
       " [797.61243575, 821.6233497500001],\n",
       " [821.6233497500001, 846.6347185000001],\n",
       " [846.6347185000001, 874.6474515000001],\n",
       " [874.6474515000001, 904.661094],\n",
       " [904.661094, 940.6774650000001],\n",
       " [940.6774650000001, 980]]"
      ]
     },
     "execution_count": 48,
     "metadata": {},
     "output_type": "execute_result"
    }
   ],
   "source": [
    "df_window, bins = method_creator.create_method(\n",
    "    mz_values,\n",
    "    mz_range,\n",
    "    num_bins,\n",
    "    window_type,\n",
    "    output_format,\n",
    "    folder_path,\n",
    "    min_width,\n",
    "    max_width,\n",
    "    adjusted_for_forbidden_zones = True,\n",
    "    # phospho_method = True\n",
    ")\n",
    "bins"
   ]
  },
  {
   "cell_type": "markdown",
   "metadata": {},
   "source": [
    "## Load and Evaluate method"
   ]
  },
  {
   "cell_type": "code",
   "execution_count": 49,
   "metadata": {},
   "outputs": [
    {
     "data": {
      "text/html": [
       "<div>\n",
       "<style scoped>\n",
       "    .dataframe tbody tr th:only-of-type {\n",
       "        vertical-align: middle;\n",
       "    }\n",
       "\n",
       "    .dataframe tbody tr th {\n",
       "        vertical-align: top;\n",
       "    }\n",
       "\n",
       "    .dataframe thead th {\n",
       "        text-align: right;\n",
       "    }\n",
       "</style>\n",
       "<table border=\"1\" class=\"dataframe\">\n",
       "  <thead>\n",
       "    <tr style=\"text-align: right;\">\n",
       "      <th></th>\n",
       "      <th>m/z range</th>\n",
       "    </tr>\n",
       "  </thead>\n",
       "  <tbody>\n",
       "    <tr>\n",
       "      <th>0</th>\n",
       "      <td>380.0000000-420.4409950</td>\n",
       "    </tr>\n",
       "    <tr>\n",
       "      <th>1</th>\n",
       "      <td>420.4409950-460.4591850</td>\n",
       "    </tr>\n",
       "    <tr>\n",
       "      <th>2</th>\n",
       "      <td>460.4591850-490.4728275</td>\n",
       "    </tr>\n",
       "    <tr>\n",
       "      <th>3</th>\n",
       "      <td>490.4728275-513.4832868</td>\n",
       "    </tr>\n",
       "    <tr>\n",
       "      <th>4</th>\n",
       "      <td>513.4832868-533.4923818</td>\n",
       "    </tr>\n",
       "    <tr>\n",
       "      <th>5</th>\n",
       "      <td>533.4923818-550.5001125</td>\n",
       "    </tr>\n",
       "    <tr>\n",
       "      <th>6</th>\n",
       "      <td>550.5001125-566.5073885</td>\n",
       "    </tr>\n",
       "    <tr>\n",
       "      <th>7</th>\n",
       "      <td>566.5073885-583.5151192</td>\n",
       "    </tr>\n",
       "    <tr>\n",
       "      <th>8</th>\n",
       "      <td>583.5151192-600.5228500</td>\n",
       "    </tr>\n",
       "    <tr>\n",
       "      <th>9</th>\n",
       "      <td>600.5228500-617.5305808</td>\n",
       "    </tr>\n",
       "    <tr>\n",
       "      <th>10</th>\n",
       "      <td>617.5305808-634.5383115</td>\n",
       "    </tr>\n",
       "    <tr>\n",
       "      <th>11</th>\n",
       "      <td>634.5383115-652.5464970</td>\n",
       "    </tr>\n",
       "    <tr>\n",
       "      <th>12</th>\n",
       "      <td>652.5464970-671.5551373</td>\n",
       "    </tr>\n",
       "    <tr>\n",
       "      <th>13</th>\n",
       "      <td>671.5551373-690.5637775</td>\n",
       "    </tr>\n",
       "    <tr>\n",
       "      <th>14</th>\n",
       "      <td>690.5637775-710.5728725</td>\n",
       "    </tr>\n",
       "    <tr>\n",
       "      <th>15</th>\n",
       "      <td>710.5728725-730.5819675</td>\n",
       "    </tr>\n",
       "    <tr>\n",
       "      <th>16</th>\n",
       "      <td>730.5819675-752.5919720</td>\n",
       "    </tr>\n",
       "    <tr>\n",
       "      <th>17</th>\n",
       "      <td>752.5919720-774.6019765</td>\n",
       "    </tr>\n",
       "    <tr>\n",
       "      <th>18</th>\n",
       "      <td>774.6019765-797.6124358</td>\n",
       "    </tr>\n",
       "    <tr>\n",
       "      <th>19</th>\n",
       "      <td>797.6124358-821.6233498</td>\n",
       "    </tr>\n",
       "    <tr>\n",
       "      <th>20</th>\n",
       "      <td>821.6233498-846.6347185</td>\n",
       "    </tr>\n",
       "    <tr>\n",
       "      <th>21</th>\n",
       "      <td>846.6347185-874.6474515</td>\n",
       "    </tr>\n",
       "    <tr>\n",
       "      <th>22</th>\n",
       "      <td>874.6474515-904.6610940</td>\n",
       "    </tr>\n",
       "    <tr>\n",
       "      <th>23</th>\n",
       "      <td>904.6610940-940.6774650</td>\n",
       "    </tr>\n",
       "    <tr>\n",
       "      <th>24</th>\n",
       "      <td>940.6774650-980.0000000</td>\n",
       "    </tr>\n",
       "  </tbody>\n",
       "</table>\n",
       "</div>"
      ],
      "text/plain": [
       "                   m/z range\n",
       "0    380.0000000-420.4409950\n",
       "1    420.4409950-460.4591850\n",
       "2    460.4591850-490.4728275\n",
       "3    490.4728275-513.4832868\n",
       "4    513.4832868-533.4923818\n",
       "5    533.4923818-550.5001125\n",
       "6    550.5001125-566.5073885\n",
       "7    566.5073885-583.5151192\n",
       "8    583.5151192-600.5228500\n",
       "9    600.5228500-617.5305808\n",
       "10   617.5305808-634.5383115\n",
       "11   634.5383115-652.5464970\n",
       "12   652.5464970-671.5551373\n",
       "13   671.5551373-690.5637775\n",
       "14   690.5637775-710.5728725\n",
       "15   710.5728725-730.5819675\n",
       "16   730.5819675-752.5919720\n",
       "17   752.5919720-774.6019765\n",
       "18   774.6019765-797.6124358\n",
       "19   797.6124358-821.6233498\n",
       "20   821.6233498-846.6347185\n",
       "21   846.6347185-874.6474515\n",
       "22   874.6474515-904.6610940\n",
       "23   904.6610940-940.6774650\n",
       "24   940.6774650-980.0000000"
      ]
     },
     "execution_count": 49,
     "metadata": {},
     "output_type": "execute_result"
    }
   ],
   "source": [
    "df_window, bins, df_method = method_evaluator.load_method_file(f\"{folder_path}/OA_DIA_method_{mz_range[0]}_{mz_range[1]}_{num_bins}_{window_type}\"+\"_mz_ranges.csv\")\n",
    "df_method"
   ]
  },
  {
   "cell_type": "code",
   "execution_count": 50,
   "metadata": {},
   "outputs": [
    {
     "name": "stdout",
     "output_type": "stream",
     "text": [
      "Summary Statistics:\n",
      "Number of bins: 25\n",
      "Min width: 16.01\n",
      "Max width: 40.44\n",
      "Average width: 24.00\n",
      "Min items per bin: 171\n",
      "Max items per bin: 758\n",
      "Average items per bin: 694.48\n",
      "\n",
      "Bin statistics:\n",
      "Bin | Range                     | Width    | Items   | Width OK\n",
      "---------------------------------------------------------------------------\n",
      "  0 | 380.0- 420.4            |  40.44 |   171 | True\n",
      "  1 | 420.4- 460.5            |  40.02 |   487 | True\n",
      "  2 | 460.5- 490.5            |  30.01 |   705 | True\n",
      "  3 | 490.5- 513.5            |  23.01 |   736 | True\n",
      "  4 | 513.5- 533.5            |  20.01 |   739 | True\n",
      "  5 | 533.5- 550.5            |  17.01 |   701 | True\n",
      "  6 | 550.5- 566.5            |  16.01 |   735 | True\n",
      "  7 | 566.5- 583.5            |  17.01 |   758 | True\n",
      "  8 | 583.5- 600.5            |  17.01 |   704 | True\n",
      "  9 | 600.5- 617.5            |  17.01 |   743 | True\n",
      " 10 | 617.5- 634.5            |  17.01 |   717 | True\n",
      " 11 | 634.5- 652.5            |  18.01 |   718 | True\n",
      " 12 | 652.5- 671.6            |  19.01 |   723 | True\n",
      " 13 | 671.6- 690.6            |  19.01 |   729 | True\n",
      " 14 | 690.6- 710.6            |  20.01 |   736 | True\n",
      " 15 | 710.6- 730.6            |  20.01 |   736 | True\n",
      " 16 | 730.6- 752.6            |  22.01 |   724 | True\n",
      " 17 | 752.6- 774.6            |  22.01 |   717 | True\n",
      " 18 | 774.6- 797.6            |  23.01 |   732 | True\n",
      " 19 | 797.6- 821.6            |  24.01 |   726 | True\n",
      " 20 | 821.6- 846.6            |  25.01 |   708 | True\n",
      " 21 | 846.6- 874.6            |  28.01 |   738 | True\n",
      " 22 | 874.6- 904.7            |  30.01 |   717 | True\n",
      " 23 | 904.7- 940.7            |  36.02 |   749 | True\n",
      " 24 | 940.7- 980.0            |  39.32 |   713 | True\n",
      "\n"
     ]
    }
   ],
   "source": [
    "# Get statistics with detailed analysis\n",
    "stats = method_evaluator.analyze_bins(bins, mz_values)\n",
    "\n",
    "# Print summary\n",
    "print(\"Summary Statistics:\")\n",
    "print(f\"Number of bins: {stats['num_bins']}\")\n",
    "print(f\"Min width: {stats['min_width']:.2f}\")\n",
    "print(f\"Max width: {stats['max_width']:.2f}\")\n",
    "print(f\"Average width: {stats['avg_width']:.2f}\")\n",
    "print(f\"Min items per bin: {stats['min_count']}\")\n",
    "print(f\"Max items per bin: {stats['max_count']}\")\n",
    "print(f\"Average items per bin: {stats['avg_count']:.2f}\")\n",
    "\n",
    "# Print detailed tabular view\n",
    "print(\"\\n\" + stats['tabular_stats'])"
   ]
  },
  {
   "cell_type": "code",
   "execution_count": 51,
   "metadata": {},
   "outputs": [
    {
     "data": {
      "image/png": "[encoded data removed]",
      "text/plain": [
       "<Figure size 640x480 with 2 Axes>"
      ]
     },
     "metadata": {},
     "output_type": "display_data"
    },
    {
     "data": {
      "text/plain": [
       "<Figure size 640x480 with 0 Axes>"
      ]
     },
     "metadata": {},
     "output_type": "display_data"
    }
   ],
   "source": [
    "df_window = method_evaluator.parse_stats_text(stats['tabular_stats'])\n",
    "\n",
    "# Determine window type\n",
    "window_type = \"fixed\" if stats['max_width']-stats['min_width']<2 else \"dynamic\"\n",
    "\n",
    "method_evaluator.plot_precursors_per_scan(\n",
    "    window_type,\n",
    "    df_window, \n",
    "    os.path.join(\n",
    "        folder_path,\n",
    "        'precursor_per_scan.png'\n",
    "    ),\n",
    "        gui=True\n",
    ")\n",
    "method_evaluator.plot_precursors_per_scan(\n",
    "    window_type,\n",
    "    df_window, \n",
    "    os.path.join(\n",
    "        folder_path,\n",
    "        'precursor_per_scan.pdf'\n",
    "    ),\n",
    ")"
   ]
  },
  {
   "cell_type": "markdown",
   "metadata": {},
   "source": []
  }
 ],
 "metadata": {
  "kernelspec": {
   "display_name": "pydiaid",
   "language": "python",
   "name": "python3"
  },
  "language_info": {
   "codemirror_mode": {
    "name": "ipython",
    "version": 3
   },
   "file_extension": ".py",
   "mimetype": "text/x-python",
   "name": "python",
   "nbconvert_exporter": "python",
   "pygments_lexer": "ipython3",
   "version": "3.8.19"
  }
 },
 "nbformat": 4,
 "nbformat_minor": 2
}
